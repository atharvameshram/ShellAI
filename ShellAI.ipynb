{
  "nbformat": 4,
  "nbformat_minor": 0,
  "metadata": {
    "colab": {
      "name": "ShellAI.ipynb",
      "provenance": [],
      "include_colab_link": true
    },
    "kernelspec": {
      "name": "python3",
      "display_name": "Python 3"
    },
    "language_info": {
      "name": "python"
    }
  },
  "cells": [
    {
      "cell_type": "markdown",
      "metadata": {
        "id": "view-in-github",
        "colab_type": "text"
      },
      "source": [
        "<a href=\"https://colab.research.google.com/github/atharvameshram/ShellAI/blob/main/ShellAI.ipynb\" target=\"_parent\"><img src=\"https://colab.research.google.com/assets/colab-badge.svg\" alt=\"Open In Colab\"/></a>"
      ]
    },
    {
      "cell_type": "markdown",
      "metadata": {
        "id": "-vmCmb-_CGp_"
      },
      "source": [
        "https://www.analyticsvidhya.com/blog/2018/09/multivariate-time-series-guide-forecasting-modeling-python-codes/\n",
        "https://towardsdatascience.com/weather-forecasting-with-machine-learning-using-python-55e90c346647\n",
        "https://www.machinelearningplus.com/time-series/arima-model-time-series-forecasting-python/"
      ]
    },
    {
      "cell_type": "code",
      "metadata": {
        "id": "ZQwNgvtBs7Gc",
        "colab": {
          "base_uri": "https://localhost:8080/"
        },
        "outputId": "06246d5b-76db-4b96-da74-a9db09898f86"
      },
      "source": [
        "!git clone https://github.com/atharvameshram/ShellAI.git"
      ],
      "execution_count": null,
      "outputs": [
        {
          "output_type": "stream",
          "name": "stdout",
          "text": [
            "fatal: destination path 'ShellAI' already exists and is not an empty directory.\n"
          ]
        }
      ]
    },
    {
      "cell_type": "code",
      "metadata": {
        "id": "eknS4zrLi3Fa"
      },
      "source": [
        "from statsmodels.tsa.vector_ar.var_model import VAR\n",
        "#checking stationarity\n",
        "from statsmodels.tsa.vector_ar.vecm import coint_johansen"
      ],
      "execution_count": 106,
      "outputs": []
    },
    {
      "cell_type": "code",
      "metadata": {
        "colab": {
          "base_uri": "https://localhost:8080/"
        },
        "id": "UMLqiXNnxYJj",
        "outputId": "9994e320-ecc0-4898-84e5-3d0feadbed80"
      },
      "source": [
        "import io\n",
        "import pandas as pd\n",
        "import numpy as np\n",
        "import matplotlib.pyplot as plt\n",
        "\n",
        "df = pd.read_csv('/content/train.csv', \n",
        "                  parse_dates={'DateTime' : ['DATE (MM/DD)','MST']})\n",
        "\n",
        "df['DateTime'] = pd.to_datetime(df.DateTime, format='%m/%d %H:%M', \n",
        "                                errors='coerce')\n",
        "df['DateTime'] = df['DateTime'].mask(df['DateTime'].dt.year == 1900, \n",
        "                             df['DateTime'] + pd.offsets.DateOffset(year=2000))\n",
        "df.loc[84960:86399, 'DateTime'] = pd.date_range('2000-02-29', periods=1440, freq='T')"
      ],
      "execution_count": null,
      "outputs": [
        {
          "output_type": "stream",
          "name": "stderr",
          "text": [
            "/usr/local/lib/python3.7/dist-packages/pandas/core/arrays/datetimes.py:694: PerformanceWarning: Non-vectorized DateOffset being applied to Series or DatetimeIndex\n",
            "  PerformanceWarning,\n"
          ]
        }
      ]
    },
    {
      "cell_type": "code",
      "metadata": {
        "colab": {
          "base_uri": "https://localhost:8080/",
          "height": 466
        },
        "id": "XLzfHzbIkfLJ",
        "outputId": "2ba0267b-883b-43c7-ff0b-4a05f9b21f00"
      },
      "source": [
        "df.iloc[856:861,]"
      ],
      "execution_count": null,
      "outputs": [
        {
          "output_type": "execute_result",
          "data": {
            "text/html": [
              "<div>\n",
              "<style scoped>\n",
              "    .dataframe tbody tr th:only-of-type {\n",
              "        vertical-align: middle;\n",
              "    }\n",
              "\n",
              "    .dataframe tbody tr th {\n",
              "        vertical-align: top;\n",
              "    }\n",
              "\n",
              "    .dataframe thead th {\n",
              "        text-align: right;\n",
              "    }\n",
              "</style>\n",
              "<table border=\"1\" class=\"dataframe\">\n",
              "  <thead>\n",
              "    <tr style=\"text-align: right;\">\n",
              "      <th></th>\n",
              "      <th>DateTime</th>\n",
              "      <th>Global CMP22 (vent/cor) [W/m^2]</th>\n",
              "      <th>Direct sNIP [W/m^2]</th>\n",
              "      <th>Azimuth Angle [degrees]</th>\n",
              "      <th>Tower Dry Bulb Temp [deg C]</th>\n",
              "      <th>Tower Wet Bulb Temp [deg C]</th>\n",
              "      <th>Tower Dew Point Temp [deg C]</th>\n",
              "      <th>Tower RH [%]</th>\n",
              "      <th>Total Cloud Cover [%]</th>\n",
              "      <th>Peak Wind Speed @ 6ft [m/s]</th>\n",
              "      <th>Avg Wind Direction @ 6ft [deg from N]</th>\n",
              "      <th>Station Pressure [mBar]</th>\n",
              "      <th>Precipitation (Accumulated) [mm]</th>\n",
              "      <th>Snow Depth [cm]</th>\n",
              "      <th>Moisture</th>\n",
              "      <th>Albedo (CMP11)</th>\n",
              "    </tr>\n",
              "  </thead>\n",
              "  <tbody>\n",
              "    <tr>\n",
              "      <th>856</th>\n",
              "      <td>2000-01-01 14:16:00</td>\n",
              "      <td>131.523</td>\n",
              "      <td>1.52815</td>\n",
              "      <td>212.22747</td>\n",
              "      <td>10.13</td>\n",
              "      <td>2.424</td>\n",
              "      <td>-7.676</td>\n",
              "      <td>25.71</td>\n",
              "      <td>49</td>\n",
              "      <td>3.20</td>\n",
              "      <td>250.3</td>\n",
              "      <td>801.182</td>\n",
              "      <td>0.0</td>\n",
              "      <td>0.284</td>\n",
              "      <td>0.0</td>\n",
              "      <td>0.1718</td>\n",
              "    </tr>\n",
              "    <tr>\n",
              "      <th>857</th>\n",
              "      <td>2000-01-01 14:17:00</td>\n",
              "      <td>141.576</td>\n",
              "      <td>4.53003</td>\n",
              "      <td>212.44666</td>\n",
              "      <td>10.04</td>\n",
              "      <td>2.303</td>\n",
              "      <td>-7.897</td>\n",
              "      <td>25.37</td>\n",
              "      <td>-7999</td>\n",
              "      <td>2.45</td>\n",
              "      <td>252.9</td>\n",
              "      <td>801.159</td>\n",
              "      <td>0.0</td>\n",
              "      <td>0.318</td>\n",
              "      <td>0.0</td>\n",
              "      <td>0.1737</td>\n",
              "    </tr>\n",
              "    <tr>\n",
              "      <th>858</th>\n",
              "      <td>2000-01-01 14:18:00</td>\n",
              "      <td>151.289</td>\n",
              "      <td>10.00470</td>\n",
              "      <td>212.66538</td>\n",
              "      <td>9.99</td>\n",
              "      <td>2.355</td>\n",
              "      <td>-7.545</td>\n",
              "      <td>26.25</td>\n",
              "      <td>-7999</td>\n",
              "      <td>1.20</td>\n",
              "      <td>263.9</td>\n",
              "      <td>801.148</td>\n",
              "      <td>0.0</td>\n",
              "      <td>0.304</td>\n",
              "      <td>0.0</td>\n",
              "      <td>0.1751</td>\n",
              "    </tr>\n",
              "    <tr>\n",
              "      <th>859</th>\n",
              "      <td>2000-01-01 14:19:00</td>\n",
              "      <td>167.359</td>\n",
              "      <td>22.85800</td>\n",
              "      <td>212.88363</td>\n",
              "      <td>9.98</td>\n",
              "      <td>2.262</td>\n",
              "      <td>-8.138</td>\n",
              "      <td>24.94</td>\n",
              "      <td>-7999</td>\n",
              "      <td>0.70</td>\n",
              "      <td>252.7</td>\n",
              "      <td>801.154</td>\n",
              "      <td>0.0</td>\n",
              "      <td>0.312</td>\n",
              "      <td>0.0</td>\n",
              "      <td>0.1774</td>\n",
              "    </tr>\n",
              "    <tr>\n",
              "      <th>860</th>\n",
              "      <td>2000-01-01 14:20:00</td>\n",
              "      <td>182.820</td>\n",
              "      <td>51.25000</td>\n",
              "      <td>213.10140</td>\n",
              "      <td>9.99</td>\n",
              "      <td>2.332</td>\n",
              "      <td>-7.868</td>\n",
              "      <td>25.52</td>\n",
              "      <td>65</td>\n",
              "      <td>0.95</td>\n",
              "      <td>126.5</td>\n",
              "      <td>801.182</td>\n",
              "      <td>0.0</td>\n",
              "      <td>0.350</td>\n",
              "      <td>0.0</td>\n",
              "      <td>0.1826</td>\n",
              "    </tr>\n",
              "  </tbody>\n",
              "</table>\n",
              "</div>"
            ],
            "text/plain": [
              "               DateTime  ...  Albedo (CMP11)\n",
              "856 2000-01-01 14:16:00  ...          0.1718\n",
              "857 2000-01-01 14:17:00  ...          0.1737\n",
              "858 2000-01-01 14:18:00  ...          0.1751\n",
              "859 2000-01-01 14:19:00  ...          0.1774\n",
              "860 2000-01-01 14:20:00  ...          0.1826\n",
              "\n",
              "[5 rows x 16 columns]"
            ]
          },
          "metadata": {},
          "execution_count": 43
        }
      ]
    },
    {
      "cell_type": "code",
      "metadata": {
        "colab": {
          "base_uri": "https://localhost:8080/"
        },
        "id": "swnravVHEUsX",
        "outputId": "cd02b15c-a5ab-4d21-b47d-84e424c179cd"
      },
      "source": [
        "len(list(df.columns))"
      ],
      "execution_count": 70,
      "outputs": [
        {
          "output_type": "execute_result",
          "data": {
            "text/plain": [
              "16"
            ]
          },
          "metadata": {},
          "execution_count": 70
        }
      ]
    },
    {
      "cell_type": "code",
      "metadata": {
        "colab": {
          "base_uri": "https://localhost:8080/"
        },
        "id": "ls9DvkByabfc",
        "outputId": "a9826672-d45d-4e17-c794-7ca051cd50d6"
      },
      "source": [
        "df.dtypes"
      ],
      "execution_count": 71,
      "outputs": [
        {
          "output_type": "execute_result",
          "data": {
            "text/plain": [
              "DateTime                                 datetime64[ns]\n",
              "Global CMP22 (vent/cor) [W/m^2]                 float64\n",
              "Direct sNIP [W/m^2]                             float64\n",
              "Azimuth Angle [degrees]                         float64\n",
              "Tower Dry Bulb Temp [deg C]                     float64\n",
              "Tower Wet Bulb Temp [deg C]                     float64\n",
              "Tower Dew Point Temp [deg C]                    float64\n",
              "Tower RH [%]                                    float64\n",
              "Total Cloud Cover [%]                             int64\n",
              "Peak Wind Speed @ 6ft [m/s]                     float64\n",
              "Avg Wind Direction @ 6ft [deg from N]           float64\n",
              "Station Pressure [mBar]                         float64\n",
              "Precipitation (Accumulated) [mm]                float64\n",
              "Snow Depth [cm]                                 float64\n",
              "Moisture                                        float64\n",
              "Albedo (CMP11)                                  float64\n",
              "dtype: object"
            ]
          },
          "metadata": {},
          "execution_count": 71
        }
      ]
    },
    {
      "cell_type": "code",
      "metadata": {
        "id": "5CpxftBNhmS8",
        "colab": {
          "base_uri": "https://localhost:8080/"
        },
        "outputId": "b667afb7-1cbb-4d26-9e56-c78be50625ad"
      },
      "source": [
        "for i in range(0, len(df)):\n",
        "  if df['Total Cloud Cover [%]'][i] == -7999:\n",
        "    k = i\n",
        "    while df['Total Cloud Cover [%]'][k] == -7999: \n",
        "      k += 1\n",
        "    df['Total Cloud Cover [%]'][i] = df['Total Cloud Cover [%]'][i-1] + (df['Total Cloud Cover [%]'][k]-df['Total Cloud Cover [%]'][i-1])/(k-i+1)"
      ],
      "execution_count": null,
      "outputs": [
        {
          "output_type": "stream",
          "name": "stderr",
          "text": [
            "/usr/local/lib/python3.7/dist-packages/ipykernel_launcher.py:6: SettingWithCopyWarning: \n",
            "A value is trying to be set on a copy of a slice from a DataFrame\n",
            "\n",
            "See the caveats in the documentation: https://pandas.pydata.org/pandas-docs/stable/user_guide/indexing.html#returning-a-view-versus-a-copy\n",
            "  \n"
          ]
        }
      ]
    },
    {
      "cell_type": "code",
      "metadata": {
        "colab": {
          "base_uri": "https://localhost:8080/",
          "height": 466
        },
        "id": "zQd_FQ3Cp0k1",
        "outputId": "2d116fdf-36fa-42fe-8862-b7814670a4ea"
      },
      "source": [
        "df.iloc[856:861,]"
      ],
      "execution_count": null,
      "outputs": [
        {
          "output_type": "execute_result",
          "data": {
            "text/html": [
              "<div>\n",
              "<style scoped>\n",
              "    .dataframe tbody tr th:only-of-type {\n",
              "        vertical-align: middle;\n",
              "    }\n",
              "\n",
              "    .dataframe tbody tr th {\n",
              "        vertical-align: top;\n",
              "    }\n",
              "\n",
              "    .dataframe thead th {\n",
              "        text-align: right;\n",
              "    }\n",
              "</style>\n",
              "<table border=\"1\" class=\"dataframe\">\n",
              "  <thead>\n",
              "    <tr style=\"text-align: right;\">\n",
              "      <th></th>\n",
              "      <th>DateTime</th>\n",
              "      <th>Global CMP22 (vent/cor) [W/m^2]</th>\n",
              "      <th>Direct sNIP [W/m^2]</th>\n",
              "      <th>Azimuth Angle [degrees]</th>\n",
              "      <th>Tower Dry Bulb Temp [deg C]</th>\n",
              "      <th>Tower Wet Bulb Temp [deg C]</th>\n",
              "      <th>Tower Dew Point Temp [deg C]</th>\n",
              "      <th>Tower RH [%]</th>\n",
              "      <th>Total Cloud Cover [%]</th>\n",
              "      <th>Peak Wind Speed @ 6ft [m/s]</th>\n",
              "      <th>Avg Wind Direction @ 6ft [deg from N]</th>\n",
              "      <th>Station Pressure [mBar]</th>\n",
              "      <th>Precipitation (Accumulated) [mm]</th>\n",
              "      <th>Snow Depth [cm]</th>\n",
              "      <th>Moisture</th>\n",
              "      <th>Albedo (CMP11)</th>\n",
              "    </tr>\n",
              "  </thead>\n",
              "  <tbody>\n",
              "    <tr>\n",
              "      <th>856</th>\n",
              "      <td>2000-01-01 14:16:00</td>\n",
              "      <td>131.523</td>\n",
              "      <td>1.52815</td>\n",
              "      <td>212.22747</td>\n",
              "      <td>10.13</td>\n",
              "      <td>2.424</td>\n",
              "      <td>-7.676</td>\n",
              "      <td>25.71</td>\n",
              "      <td>49</td>\n",
              "      <td>3.20</td>\n",
              "      <td>250.3</td>\n",
              "      <td>801.182</td>\n",
              "      <td>0.0</td>\n",
              "      <td>0.284</td>\n",
              "      <td>0.0</td>\n",
              "      <td>0.1718</td>\n",
              "    </tr>\n",
              "    <tr>\n",
              "      <th>857</th>\n",
              "      <td>2000-01-01 14:17:00</td>\n",
              "      <td>141.576</td>\n",
              "      <td>4.53003</td>\n",
              "      <td>212.44666</td>\n",
              "      <td>10.04</td>\n",
              "      <td>2.303</td>\n",
              "      <td>-7.897</td>\n",
              "      <td>25.37</td>\n",
              "      <td>53</td>\n",
              "      <td>2.45</td>\n",
              "      <td>252.9</td>\n",
              "      <td>801.159</td>\n",
              "      <td>0.0</td>\n",
              "      <td>0.318</td>\n",
              "      <td>0.0</td>\n",
              "      <td>0.1737</td>\n",
              "    </tr>\n",
              "    <tr>\n",
              "      <th>858</th>\n",
              "      <td>2000-01-01 14:18:00</td>\n",
              "      <td>151.289</td>\n",
              "      <td>10.00470</td>\n",
              "      <td>212.66538</td>\n",
              "      <td>9.99</td>\n",
              "      <td>2.355</td>\n",
              "      <td>-7.545</td>\n",
              "      <td>26.25</td>\n",
              "      <td>57</td>\n",
              "      <td>1.20</td>\n",
              "      <td>263.9</td>\n",
              "      <td>801.148</td>\n",
              "      <td>0.0</td>\n",
              "      <td>0.304</td>\n",
              "      <td>0.0</td>\n",
              "      <td>0.1751</td>\n",
              "    </tr>\n",
              "    <tr>\n",
              "      <th>859</th>\n",
              "      <td>2000-01-01 14:19:00</td>\n",
              "      <td>167.359</td>\n",
              "      <td>22.85800</td>\n",
              "      <td>212.88363</td>\n",
              "      <td>9.98</td>\n",
              "      <td>2.262</td>\n",
              "      <td>-8.138</td>\n",
              "      <td>24.94</td>\n",
              "      <td>61</td>\n",
              "      <td>0.70</td>\n",
              "      <td>252.7</td>\n",
              "      <td>801.154</td>\n",
              "      <td>0.0</td>\n",
              "      <td>0.312</td>\n",
              "      <td>0.0</td>\n",
              "      <td>0.1774</td>\n",
              "    </tr>\n",
              "    <tr>\n",
              "      <th>860</th>\n",
              "      <td>2000-01-01 14:20:00</td>\n",
              "      <td>182.820</td>\n",
              "      <td>51.25000</td>\n",
              "      <td>213.10140</td>\n",
              "      <td>9.99</td>\n",
              "      <td>2.332</td>\n",
              "      <td>-7.868</td>\n",
              "      <td>25.52</td>\n",
              "      <td>65</td>\n",
              "      <td>0.95</td>\n",
              "      <td>126.5</td>\n",
              "      <td>801.182</td>\n",
              "      <td>0.0</td>\n",
              "      <td>0.350</td>\n",
              "      <td>0.0</td>\n",
              "      <td>0.1826</td>\n",
              "    </tr>\n",
              "  </tbody>\n",
              "</table>\n",
              "</div>"
            ],
            "text/plain": [
              "               DateTime  ...  Albedo (CMP11)\n",
              "856 2000-01-01 14:16:00  ...          0.1718\n",
              "857 2000-01-01 14:17:00  ...          0.1737\n",
              "858 2000-01-01 14:18:00  ...          0.1751\n",
              "859 2000-01-01 14:19:00  ...          0.1774\n",
              "860 2000-01-01 14:20:00  ...          0.1826\n",
              "\n",
              "[5 rows x 16 columns]"
            ]
          },
          "metadata": {},
          "execution_count": 46
        }
      ]
    },
    {
      "cell_type": "code",
      "metadata": {
        "colab": {
          "base_uri": "https://localhost:8080/"
        },
        "id": "I8Sr4KA-UbGu",
        "outputId": "6ee0dadf-00a0-4863-bc5c-8c238fd9799a"
      },
      "source": [
        "df['Total Cloud Cover [%]'][468]"
      ],
      "execution_count": null,
      "outputs": [
        {
          "output_type": "execute_result",
          "data": {
            "text/plain": [
              "8"
            ]
          },
          "metadata": {},
          "execution_count": 47
        }
      ]
    },
    {
      "cell_type": "code",
      "metadata": {
        "id": "gLJKjCvsPvho"
      },
      "source": [
        "cc = df['Total Cloud Cover [%]'][468:468+360]\n",
        "time = df['DateTime'][468:468+360]"
      ],
      "execution_count": null,
      "outputs": []
    },
    {
      "cell_type": "code",
      "metadata": {
        "colab": {
          "base_uri": "https://localhost:8080/",
          "height": 283
        },
        "id": "sv0feTqmZYev",
        "outputId": "457889a1-e4f7-4a92-c23c-a6c0945e1725"
      },
      "source": [
        "plt.plot(df['DateTime'], df['Total Cloud Cover [%]'])"
      ],
      "execution_count": 69,
      "outputs": [
        {
          "output_type": "execute_result",
          "data": {
            "text/plain": [
              "[<matplotlib.lines.Line2D at 0x7fcb977d6f90>]"
            ]
          },
          "metadata": {},
          "execution_count": 69
        },
        {
          "output_type": "display_data",
          "data": {
            "image/png": "[encoded data removed]",
            "text/plain": [
              "<Figure size 432x288 with 1 Axes>"
            ]
          },
          "metadata": {
            "needs_background": "light"
          }
        }
      ]
    },
    {
      "cell_type": "code",
      "metadata": {
        "id": "CsO8bXbUjC5o"
      },
      "source": [
        ""
      ],
      "execution_count": null,
      "outputs": []
    },
    {
      "cell_type": "code",
      "metadata": {
        "colab": {
          "base_uri": "https://localhost:8080/",
          "height": 283
        },
        "id": "2tI7LPfbT_9Y",
        "outputId": "56f18594-f621-44df-d0ae-daae010148c8"
      },
      "source": [
        "plt.plot(time, cc)"
      ],
      "execution_count": null,
      "outputs": [
        {
          "output_type": "execute_result",
          "data": {
            "text/plain": [
              "[<matplotlib.lines.Line2D at 0x7fcb984a9750>]"
            ]
          },
          "metadata": {},
          "execution_count": 49
        },
        {
          "output_type": "display_data",
          "data": {
            "image/png": "[encoded data removed]",
            "text/plain": [
              "<Figure size 432x288 with 1 Axes>"
            ]
          },
          "metadata": {
            "needs_background": "light"
          }
        }
      ]
    },
    {
      "cell_type": "code",
      "metadata": {
        "colab": {
          "base_uri": "https://localhost:8080/",
          "height": 466
        },
        "id": "EUBEhgMaUppa",
        "outputId": "9925036e-d0d6-49de-b8e0-b1d4eb2f4d40"
      },
      "source": [
        "data = df.drop(df[df['Total Cloud Cover [%]'] < 0].index)\n",
        "data.head()"
      ],
      "execution_count": 65,
      "outputs": [
        {
          "output_type": "execute_result",
          "data": {
            "text/html": [
              "<div>\n",
              "<style scoped>\n",
              "    .dataframe tbody tr th:only-of-type {\n",
              "        vertical-align: middle;\n",
              "    }\n",
              "\n",
              "    .dataframe tbody tr th {\n",
              "        vertical-align: top;\n",
              "    }\n",
              "\n",
              "    .dataframe thead th {\n",
              "        text-align: right;\n",
              "    }\n",
              "</style>\n",
              "<table border=\"1\" class=\"dataframe\">\n",
              "  <thead>\n",
              "    <tr style=\"text-align: right;\">\n",
              "      <th></th>\n",
              "      <th>DateTime</th>\n",
              "      <th>Global CMP22 (vent/cor) [W/m^2]</th>\n",
              "      <th>Direct sNIP [W/m^2]</th>\n",
              "      <th>Azimuth Angle [degrees]</th>\n",
              "      <th>Tower Dry Bulb Temp [deg C]</th>\n",
              "      <th>Tower Wet Bulb Temp [deg C]</th>\n",
              "      <th>Tower Dew Point Temp [deg C]</th>\n",
              "      <th>Tower RH [%]</th>\n",
              "      <th>Total Cloud Cover [%]</th>\n",
              "      <th>Peak Wind Speed @ 6ft [m/s]</th>\n",
              "      <th>Avg Wind Direction @ 6ft [deg from N]</th>\n",
              "      <th>Station Pressure [mBar]</th>\n",
              "      <th>Precipitation (Accumulated) [mm]</th>\n",
              "      <th>Snow Depth [cm]</th>\n",
              "      <th>Moisture</th>\n",
              "      <th>Albedo (CMP11)</th>\n",
              "    </tr>\n",
              "  </thead>\n",
              "  <tbody>\n",
              "    <tr>\n",
              "      <th>467</th>\n",
              "      <td>2000-01-01 07:47:00</td>\n",
              "      <td>14.4935</td>\n",
              "      <td>0.079127</td>\n",
              "      <td>123.84491</td>\n",
              "      <td>6.933</td>\n",
              "      <td>1.403</td>\n",
              "      <td>-5.597</td>\n",
              "      <td>38.24</td>\n",
              "      <td>6</td>\n",
              "      <td>0.7</td>\n",
              "      <td>210.3</td>\n",
              "      <td>802.042</td>\n",
              "      <td>0.0</td>\n",
              "      <td>0.032</td>\n",
              "      <td>0.0</td>\n",
              "      <td>0.1951</td>\n",
              "    </tr>\n",
              "    <tr>\n",
              "      <th>468</th>\n",
              "      <td>2000-01-01 07:48:00</td>\n",
              "      <td>16.5178</td>\n",
              "      <td>-0.034618</td>\n",
              "      <td>124.01096</td>\n",
              "      <td>6.793</td>\n",
              "      <td>1.294</td>\n",
              "      <td>-5.606</td>\n",
              "      <td>38.58</td>\n",
              "      <td>8</td>\n",
              "      <td>0.7</td>\n",
              "      <td>232.2</td>\n",
              "      <td>801.948</td>\n",
              "      <td>0.0</td>\n",
              "      <td>0.029</td>\n",
              "      <td>0.0</td>\n",
              "      <td>0.1867</td>\n",
              "    </tr>\n",
              "    <tr>\n",
              "      <th>469</th>\n",
              "      <td>2000-01-01 07:49:00</td>\n",
              "      <td>18.6171</td>\n",
              "      <td>-0.153309</td>\n",
              "      <td>124.17734</td>\n",
              "      <td>6.674</td>\n",
              "      <td>1.260</td>\n",
              "      <td>-5.540</td>\n",
              "      <td>39.12</td>\n",
              "      <td>10</td>\n",
              "      <td>1.7</td>\n",
              "      <td>263.9</td>\n",
              "      <td>801.940</td>\n",
              "      <td>0.0</td>\n",
              "      <td>0.173</td>\n",
              "      <td>0.0</td>\n",
              "      <td>0.1783</td>\n",
              "    </tr>\n",
              "    <tr>\n",
              "      <th>470</th>\n",
              "      <td>2000-01-01 07:50:00</td>\n",
              "      <td>20.5986</td>\n",
              "      <td>-0.143419</td>\n",
              "      <td>124.34405</td>\n",
              "      <td>6.646</td>\n",
              "      <td>1.306</td>\n",
              "      <td>-5.494</td>\n",
              "      <td>39.35</td>\n",
              "      <td>13</td>\n",
              "      <td>2.2</td>\n",
              "      <td>277.5</td>\n",
              "      <td>801.927</td>\n",
              "      <td>0.0</td>\n",
              "      <td>0.144</td>\n",
              "      <td>0.0</td>\n",
              "      <td>0.1758</td>\n",
              "    </tr>\n",
              "    <tr>\n",
              "      <th>471</th>\n",
              "      <td>2000-01-01 07:51:00</td>\n",
              "      <td>22.4362</td>\n",
              "      <td>-0.079128</td>\n",
              "      <td>124.51110</td>\n",
              "      <td>6.676</td>\n",
              "      <td>1.316</td>\n",
              "      <td>-5.384</td>\n",
              "      <td>39.64</td>\n",
              "      <td>15</td>\n",
              "      <td>2.2</td>\n",
              "      <td>233.4</td>\n",
              "      <td>801.829</td>\n",
              "      <td>0.0</td>\n",
              "      <td>0.355</td>\n",
              "      <td>0.0</td>\n",
              "      <td>0.1765</td>\n",
              "    </tr>\n",
              "  </tbody>\n",
              "</table>\n",
              "</div>"
            ],
            "text/plain": [
              "               DateTime  ...  Albedo (CMP11)\n",
              "467 2000-01-01 07:47:00  ...          0.1951\n",
              "468 2000-01-01 07:48:00  ...          0.1867\n",
              "469 2000-01-01 07:49:00  ...          0.1783\n",
              "470 2000-01-01 07:50:00  ...          0.1758\n",
              "471 2000-01-01 07:51:00  ...          0.1765\n",
              "\n",
              "[5 rows x 16 columns]"
            ]
          },
          "metadata": {},
          "execution_count": 65
        }
      ]
    },
    {
      "cell_type": "code",
      "metadata": {
        "colab": {
          "base_uri": "https://localhost:8080/",
          "height": 283
        },
        "id": "8_64hxe_XT_B",
        "outputId": "3aa0d174-4cc1-450c-8860-c1479e3f4914"
      },
      "source": [
        "plt.plot(data['DateTime'], data['Total Cloud Cover [%]'])"
      ],
      "execution_count": 66,
      "outputs": [
        {
          "output_type": "execute_result",
          "data": {
            "text/plain": [
              "[<matplotlib.lines.Line2D at 0x7fcb978ecd50>]"
            ]
          },
          "metadata": {},
          "execution_count": 66
        },
        {
          "output_type": "display_data",
          "data": {
            "image/png": "[encoded data removed]",
            "text/plain": [
              "<Figure size 432x288 with 1 Axes>"
            ]
          },
          "metadata": {
            "needs_background": "light"
          }
        }
      ]
    },
    {
      "cell_type": "code",
      "metadata": {
        "id": "jcN_FF-vX82g",
        "colab": {
          "base_uri": "https://localhost:8080/"
        },
        "outputId": "ce48b5c0-69a9-4e96-b16a-dfecfed159b4"
      },
      "source": [
        "data[data['Total Cloud Cover [%]'] < 0].index"
      ],
      "execution_count": 67,
      "outputs": [
        {
          "output_type": "execute_result",
          "data": {
            "text/plain": [
              "Int64Index([], dtype='int64')"
            ]
          },
          "metadata": {},
          "execution_count": 67
        }
      ]
    },
    {
      "cell_type": "code",
      "metadata": {
        "colab": {
          "base_uri": "https://localhost:8080/",
          "height": 552
        },
        "id": "dtKq99YYYt_H",
        "outputId": "de43455d-4d7c-4ec9-9144-d33010d418a3"
      },
      "source": [
        "df.iloc[462702:462708,]"
      ],
      "execution_count": 68,
      "outputs": [
        {
          "output_type": "execute_result",
          "data": {
            "text/html": [
              "<div>\n",
              "<style scoped>\n",
              "    .dataframe tbody tr th:only-of-type {\n",
              "        vertical-align: middle;\n",
              "    }\n",
              "\n",
              "    .dataframe tbody tr th {\n",
              "        vertical-align: top;\n",
              "    }\n",
              "\n",
              "    .dataframe thead th {\n",
              "        text-align: right;\n",
              "    }\n",
              "</style>\n",
              "<table border=\"1\" class=\"dataframe\">\n",
              "  <thead>\n",
              "    <tr style=\"text-align: right;\">\n",
              "      <th></th>\n",
              "      <th>DateTime</th>\n",
              "      <th>Global CMP22 (vent/cor) [W/m^2]</th>\n",
              "      <th>Direct sNIP [W/m^2]</th>\n",
              "      <th>Azimuth Angle [degrees]</th>\n",
              "      <th>Tower Dry Bulb Temp [deg C]</th>\n",
              "      <th>Tower Wet Bulb Temp [deg C]</th>\n",
              "      <th>Tower Dew Point Temp [deg C]</th>\n",
              "      <th>Tower RH [%]</th>\n",
              "      <th>Total Cloud Cover [%]</th>\n",
              "      <th>Peak Wind Speed @ 6ft [m/s]</th>\n",
              "      <th>Avg Wind Direction @ 6ft [deg from N]</th>\n",
              "      <th>Station Pressure [mBar]</th>\n",
              "      <th>Precipitation (Accumulated) [mm]</th>\n",
              "      <th>Snow Depth [cm]</th>\n",
              "      <th>Moisture</th>\n",
              "      <th>Albedo (CMP11)</th>\n",
              "    </tr>\n",
              "  </thead>\n",
              "  <tbody>\n",
              "    <tr>\n",
              "      <th>462702</th>\n",
              "      <td>2000-11-17 07:42:00</td>\n",
              "      <td>168.601</td>\n",
              "      <td>664.154</td>\n",
              "      <td>123.47553</td>\n",
              "      <td>12.04</td>\n",
              "      <td>2.934</td>\n",
              "      <td>-10.166</td>\n",
              "      <td>18.18</td>\n",
              "      <td>-1400</td>\n",
              "      <td>1.95</td>\n",
              "      <td>264.4</td>\n",
              "      <td>823.656</td>\n",
              "      <td>0.0</td>\n",
              "      <td>-0.034</td>\n",
              "      <td>0.0</td>\n",
              "      <td>0.3000</td>\n",
              "    </tr>\n",
              "    <tr>\n",
              "      <th>462703</th>\n",
              "      <td>2000-11-17 07:43:00</td>\n",
              "      <td>165.937</td>\n",
              "      <td>623.221</td>\n",
              "      <td>123.65092</td>\n",
              "      <td>12.12</td>\n",
              "      <td>2.944</td>\n",
              "      <td>-10.256</td>\n",
              "      <td>17.94</td>\n",
              "      <td>-2799</td>\n",
              "      <td>2.45</td>\n",
              "      <td>259.9</td>\n",
              "      <td>823.681</td>\n",
              "      <td>0.0</td>\n",
              "      <td>-0.022</td>\n",
              "      <td>0.0</td>\n",
              "      <td>0.2952</td>\n",
              "    </tr>\n",
              "    <tr>\n",
              "      <th>462704</th>\n",
              "      <td>2000-11-17 07:44:00</td>\n",
              "      <td>165.856</td>\n",
              "      <td>601.934</td>\n",
              "      <td>123.82669</td>\n",
              "      <td>12.20</td>\n",
              "      <td>3.003</td>\n",
              "      <td>-10.097</td>\n",
              "      <td>18.10</td>\n",
              "      <td>-4199</td>\n",
              "      <td>2.70</td>\n",
              "      <td>259.8</td>\n",
              "      <td>823.704</td>\n",
              "      <td>0.0</td>\n",
              "      <td>-0.047</td>\n",
              "      <td>0.0</td>\n",
              "      <td>0.2919</td>\n",
              "    </tr>\n",
              "    <tr>\n",
              "      <th>462705</th>\n",
              "      <td>2000-11-17 07:45:00</td>\n",
              "      <td>162.967</td>\n",
              "      <td>562.023</td>\n",
              "      <td>124.00283</td>\n",
              "      <td>12.27</td>\n",
              "      <td>3.100</td>\n",
              "      <td>-9.800</td>\n",
              "      <td>18.50</td>\n",
              "      <td>-5599</td>\n",
              "      <td>1.70</td>\n",
              "      <td>262.4</td>\n",
              "      <td>823.706</td>\n",
              "      <td>0.0</td>\n",
              "      <td>-0.094</td>\n",
              "      <td>0.0</td>\n",
              "      <td>0.2859</td>\n",
              "    </tr>\n",
              "    <tr>\n",
              "      <th>462706</th>\n",
              "      <td>2000-11-17 07:46:00</td>\n",
              "      <td>162.436</td>\n",
              "      <td>540.855</td>\n",
              "      <td>124.17935</td>\n",
              "      <td>12.28</td>\n",
              "      <td>3.143</td>\n",
              "      <td>-9.557</td>\n",
              "      <td>18.89</td>\n",
              "      <td>-6999</td>\n",
              "      <td>1.45</td>\n",
              "      <td>260.2</td>\n",
              "      <td>823.709</td>\n",
              "      <td>0.0</td>\n",
              "      <td>-0.121</td>\n",
              "      <td>0.0</td>\n",
              "      <td>0.2824</td>\n",
              "    </tr>\n",
              "    <tr>\n",
              "      <th>462707</th>\n",
              "      <td>2000-11-17 07:47:00</td>\n",
              "      <td>165.610</td>\n",
              "      <td>546.563</td>\n",
              "      <td>124.35625</td>\n",
              "      <td>12.28</td>\n",
              "      <td>3.141</td>\n",
              "      <td>-9.659</td>\n",
              "      <td>18.72</td>\n",
              "      <td>-6999</td>\n",
              "      <td>1.45</td>\n",
              "      <td>273.6</td>\n",
              "      <td>823.702</td>\n",
              "      <td>0.0</td>\n",
              "      <td>-0.071</td>\n",
              "      <td>0.0</td>\n",
              "      <td>0.2829</td>\n",
              "    </tr>\n",
              "  </tbody>\n",
              "</table>\n",
              "</div>"
            ],
            "text/plain": [
              "                  DateTime  ...  Albedo (CMP11)\n",
              "462702 2000-11-17 07:42:00  ...          0.3000\n",
              "462703 2000-11-17 07:43:00  ...          0.2952\n",
              "462704 2000-11-17 07:44:00  ...          0.2919\n",
              "462705 2000-11-17 07:45:00  ...          0.2859\n",
              "462706 2000-11-17 07:46:00  ...          0.2824\n",
              "462707 2000-11-17 07:47:00  ...          0.2829\n",
              "\n",
              "[6 rows x 16 columns]"
            ]
          },
          "metadata": {},
          "execution_count": 68
        }
      ]
    },
    {
      "cell_type": "code",
      "metadata": {
        "id": "JxxTyX_zZyvh"
      },
      "source": [
        "data.index = data['DateTime']\n",
        "data = data.drop(['DateTime', 'Moisture', 'Precipitation (Accumulated) [mm]'], axis=1)"
      ],
      "execution_count": 80,
      "outputs": []
    },
    {
      "cell_type": "code",
      "metadata": {
        "colab": {
          "base_uri": "https://localhost:8080/",
          "height": 480
        },
        "id": "Mtrs3EfsbaLV",
        "outputId": "b4ae4b6f-92be-4305-e45d-12dd3e32a934"
      },
      "source": [
        "data.head()"
      ],
      "execution_count": 82,
      "outputs": [
        {
          "output_type": "execute_result",
          "data": {
            "text/html": [
              "<div>\n",
              "<style scoped>\n",
              "    .dataframe tbody tr th:only-of-type {\n",
              "        vertical-align: middle;\n",
              "    }\n",
              "\n",
              "    .dataframe tbody tr th {\n",
              "        vertical-align: top;\n",
              "    }\n",
              "\n",
              "    .dataframe thead th {\n",
              "        text-align: right;\n",
              "    }\n",
              "</style>\n",
              "<table border=\"1\" class=\"dataframe\">\n",
              "  <thead>\n",
              "    <tr style=\"text-align: right;\">\n",
              "      <th></th>\n",
              "      <th>Global CMP22 (vent/cor) [W/m^2]</th>\n",
              "      <th>Direct sNIP [W/m^2]</th>\n",
              "      <th>Azimuth Angle [degrees]</th>\n",
              "      <th>Tower Dry Bulb Temp [deg C]</th>\n",
              "      <th>Tower Wet Bulb Temp [deg C]</th>\n",
              "      <th>Tower Dew Point Temp [deg C]</th>\n",
              "      <th>Tower RH [%]</th>\n",
              "      <th>Total Cloud Cover [%]</th>\n",
              "      <th>Peak Wind Speed @ 6ft [m/s]</th>\n",
              "      <th>Avg Wind Direction @ 6ft [deg from N]</th>\n",
              "      <th>Station Pressure [mBar]</th>\n",
              "      <th>Snow Depth [cm]</th>\n",
              "      <th>Albedo (CMP11)</th>\n",
              "    </tr>\n",
              "    <tr>\n",
              "      <th>DateTime</th>\n",
              "      <th></th>\n",
              "      <th></th>\n",
              "      <th></th>\n",
              "      <th></th>\n",
              "      <th></th>\n",
              "      <th></th>\n",
              "      <th></th>\n",
              "      <th></th>\n",
              "      <th></th>\n",
              "      <th></th>\n",
              "      <th></th>\n",
              "      <th></th>\n",
              "      <th></th>\n",
              "    </tr>\n",
              "  </thead>\n",
              "  <tbody>\n",
              "    <tr>\n",
              "      <th>2000-01-01 07:47:00</th>\n",
              "      <td>14.4935</td>\n",
              "      <td>0.079127</td>\n",
              "      <td>123.84491</td>\n",
              "      <td>6.933</td>\n",
              "      <td>1.403</td>\n",
              "      <td>-5.597</td>\n",
              "      <td>38.24</td>\n",
              "      <td>6</td>\n",
              "      <td>0.7</td>\n",
              "      <td>210.3</td>\n",
              "      <td>802.042</td>\n",
              "      <td>0.032</td>\n",
              "      <td>0.1951</td>\n",
              "    </tr>\n",
              "    <tr>\n",
              "      <th>2000-01-01 07:48:00</th>\n",
              "      <td>16.5178</td>\n",
              "      <td>-0.034618</td>\n",
              "      <td>124.01096</td>\n",
              "      <td>6.793</td>\n",
              "      <td>1.294</td>\n",
              "      <td>-5.606</td>\n",
              "      <td>38.58</td>\n",
              "      <td>8</td>\n",
              "      <td>0.7</td>\n",
              "      <td>232.2</td>\n",
              "      <td>801.948</td>\n",
              "      <td>0.029</td>\n",
              "      <td>0.1867</td>\n",
              "    </tr>\n",
              "    <tr>\n",
              "      <th>2000-01-01 07:49:00</th>\n",
              "      <td>18.6171</td>\n",
              "      <td>-0.153309</td>\n",
              "      <td>124.17734</td>\n",
              "      <td>6.674</td>\n",
              "      <td>1.260</td>\n",
              "      <td>-5.540</td>\n",
              "      <td>39.12</td>\n",
              "      <td>10</td>\n",
              "      <td>1.7</td>\n",
              "      <td>263.9</td>\n",
              "      <td>801.940</td>\n",
              "      <td>0.173</td>\n",
              "      <td>0.1783</td>\n",
              "    </tr>\n",
              "    <tr>\n",
              "      <th>2000-01-01 07:50:00</th>\n",
              "      <td>20.5986</td>\n",
              "      <td>-0.143419</td>\n",
              "      <td>124.34405</td>\n",
              "      <td>6.646</td>\n",
              "      <td>1.306</td>\n",
              "      <td>-5.494</td>\n",
              "      <td>39.35</td>\n",
              "      <td>13</td>\n",
              "      <td>2.2</td>\n",
              "      <td>277.5</td>\n",
              "      <td>801.927</td>\n",
              "      <td>0.144</td>\n",
              "      <td>0.1758</td>\n",
              "    </tr>\n",
              "    <tr>\n",
              "      <th>2000-01-01 07:51:00</th>\n",
              "      <td>22.4362</td>\n",
              "      <td>-0.079128</td>\n",
              "      <td>124.51110</td>\n",
              "      <td>6.676</td>\n",
              "      <td>1.316</td>\n",
              "      <td>-5.384</td>\n",
              "      <td>39.64</td>\n",
              "      <td>15</td>\n",
              "      <td>2.2</td>\n",
              "      <td>233.4</td>\n",
              "      <td>801.829</td>\n",
              "      <td>0.355</td>\n",
              "      <td>0.1765</td>\n",
              "    </tr>\n",
              "  </tbody>\n",
              "</table>\n",
              "</div>"
            ],
            "text/plain": [
              "                     Global CMP22 (vent/cor) [W/m^2]  ...  Albedo (CMP11)\n",
              "DateTime                                              ...                \n",
              "2000-01-01 07:47:00                          14.4935  ...          0.1951\n",
              "2000-01-01 07:48:00                          16.5178  ...          0.1867\n",
              "2000-01-01 07:49:00                          18.6171  ...          0.1783\n",
              "2000-01-01 07:50:00                          20.5986  ...          0.1758\n",
              "2000-01-01 07:51:00                          22.4362  ...          0.1765\n",
              "\n",
              "[5 rows x 13 columns]"
            ]
          },
          "metadata": {},
          "execution_count": 82
        }
      ]
    },
    {
      "cell_type": "code",
      "metadata": {
        "colab": {
          "base_uri": "https://localhost:8080/"
        },
        "id": "DdbirEy_b_38",
        "outputId": "85c378df-f48a-4e6b-b244-8b7ab78c7714"
      },
      "source": [
        "data[data['Snow Depth [cm]'] < 0].index"
      ],
      "execution_count": 85,
      "outputs": [
        {
          "output_type": "execute_result",
          "data": {
            "text/plain": [
              "DatetimeIndex(['2000-01-01 09:32:00', '2000-01-01 09:43:00',\n",
              "               '2000-01-01 09:44:00', '2000-01-01 09:48:00',\n",
              "               '2000-01-02 10:02:00', '2000-01-02 10:03:00',\n",
              "               '2000-01-02 10:15:00', '2000-01-02 10:16:00',\n",
              "               '2000-01-02 10:17:00', '2000-01-02 10:18:00',\n",
              "               ...\n",
              "               '2000-12-23 09:05:00', '2000-12-23 09:08:00',\n",
              "               '2000-12-23 09:13:00', '2000-12-23 09:15:00',\n",
              "               '2000-12-23 09:16:00', '2000-12-23 09:20:00',\n",
              "               '2000-12-23 09:24:00', '2000-12-25 10:13:00',\n",
              "               '2000-12-25 10:14:00', '2000-12-26 07:50:00'],\n",
              "              dtype='datetime64[ns]', name='DateTime', length=37303, freq=None)"
            ]
          },
          "metadata": {},
          "execution_count": 85
        }
      ]
    },
    {
      "cell_type": "code",
      "metadata": {
        "colab": {
          "base_uri": "https://localhost:8080/"
        },
        "id": "XgVKvSpTbE4d",
        "outputId": "55cd2670-697e-4bca-fefc-3a41d1b07ed8"
      },
      "source": [
        "len(list(data.columns))"
      ],
      "execution_count": 87,
      "outputs": [
        {
          "output_type": "execute_result",
          "data": {
            "text/plain": [
              "12"
            ]
          },
          "metadata": {},
          "execution_count": 87
        }
      ]
    },
    {
      "cell_type": "code",
      "metadata": {
        "id": "fUUyu4RhcwfA"
      },
      "source": [
        "data = data.drop(['Snow Depth [cm]'], axis=1)]"
      ],
      "execution_count": 86,
      "outputs": []
    },
    {
      "cell_type": "code",
      "metadata": {
        "colab": {
          "base_uri": "https://localhost:8080/"
        },
        "id": "4DgdEu-sc7ba",
        "outputId": "0d11f930-f4f0-468b-936d-5b476a96df2e"
      },
      "source": [
        "coint_johansen(data,-1,1).eig"
      ],
      "execution_count": 89,
      "outputs": [
        {
          "output_type": "execute_result",
          "data": {
            "text/plain": [
              "array([6.73548823e-02, 4.51479149e-02, 2.90774266e-02, 1.28997440e-02,\n",
              "       8.42604403e-03, 3.97454595e-03, 3.41935233e-03, 2.05369171e-03,\n",
              "       1.18580306e-03, 9.27750103e-04, 3.33636272e-04, 3.33106035e-08])"
            ]
          },
          "metadata": {},
          "execution_count": 89
        }
      ]
    },
    {
      "cell_type": "code",
      "metadata": {
        "id": "-fgNpHGFf6th"
      },
      "source": [
        "train = data[:int(0.8*(len(data)))]\n",
        "valid = data[int(0.8*(len(data))):]"
      ],
      "execution_count": 107,
      "outputs": []
    },
    {
      "cell_type": "code",
      "metadata": {
        "colab": {
          "base_uri": "https://localhost:8080/"
        },
        "id": "gPSgb9aKgMJt",
        "outputId": "4fff2b89-3ac2-4763-9278-bfd468a06ea9"
      },
      "source": [
        "model = VAR(endog=train)\n",
        "model_fit = model.fit()"
      ],
      "execution_count": 108,
      "outputs": [
        {
          "output_type": "stream",
          "name": "stderr",
          "text": [
            "/usr/local/lib/python3.7/dist-packages/statsmodels/tsa/base/tsa_model.py:219: ValueWarning: A date index has been provided, but it has no associated frequency information and so will be ignored when e.g. forecasting.\n",
            "  ' ignored when e.g. forecasting.', ValueWarning)\n"
          ]
        }
      ]
    },
    {
      "cell_type": "code",
      "metadata": {
        "colab": {
          "base_uri": "https://localhost:8080/"
        },
        "id": "_k_UnndUgoXN",
        "outputId": "6dff74d4-b7c5-49dc-a3aa-534ae9886aa1"
      },
      "source": [
        "# make prediction on validation\n",
        "prediction = model_fit.forecast(model_fit.y, steps=len(valid))\n",
        "prediction"
      ],
      "execution_count": 133,
      "outputs": [
        {
          "output_type": "stream",
          "name": "stderr",
          "text": [
            "/usr/local/lib/python3.7/dist-packages/statsmodels/base/wrapper.py:35: FutureWarning: y is a deprecated alias for endog, will be removed in version 0.11.0\n",
            "  obj = getattr(results, attr)\n"
          ]
        },
        {
          "output_type": "execute_result",
          "data": {
            "text/plain": [
              "array([[3.67412495e+01, 3.98112663e+01, 2.33668184e+02, ...,\n",
              "        4.34651570e+01, 8.12721445e+02, 2.50162845e-01],\n",
              "       [5.81902518e+01, 7.73297111e+01, 2.30685548e+02, ...,\n",
              "        6.19151113e+01, 8.12746257e+02, 2.56244212e-01],\n",
              "       [7.82095656e+01, 1.12537590e+02, 2.27833627e+02, ...,\n",
              "        7.66280739e+01, 8.12769650e+02, 2.62056044e-01],\n",
              "       ...,\n",
              "       [4.12837602e+02, 4.93677186e+02, 1.80410630e+02, ...,\n",
              "        1.34688715e+02, 8.16892936e+02, 2.65512443e-01],\n",
              "       [4.12837602e+02, 4.93677186e+02, 1.80410630e+02, ...,\n",
              "        1.34688715e+02, 8.16892936e+02, 2.65512443e-01],\n",
              "       [4.12837602e+02, 4.93677186e+02, 1.80410630e+02, ...,\n",
              "        1.34688715e+02, 8.16892936e+02, 2.65512443e-01]])"
            ]
          },
          "metadata": {},
          "execution_count": 133
        }
      ]
    },
    {
      "cell_type": "code",
      "metadata": {
        "id": "0_fJOWacgsRW"
      },
      "source": [
        "#converting predictions to dataframe\n",
        "pred = pd.DataFrame(index=range(0, len(prediction)),columns = data.columns)\n",
        "for j in range(0, 12):\n",
        "    for i in range(0, len(prediction)):\n",
        "       pred.iloc[i][j] = prediction[i][j]"
      ],
      "execution_count": 110,
      "outputs": []
    },
    {
      "cell_type": "code",
      "metadata": {
        "colab": {
          "base_uri": "https://localhost:8080/"
        },
        "id": "K403IxmHhbic",
        "outputId": "6987b773-d4ef-4043-d94e-5bea282feac4"
      },
      "source": [
        "#check rmse\n",
        "from sklearn.metrics import mean_squared_error\n",
        "from numpy import sqrt\n",
        "\n",
        "for i in data.columns:\n",
        "    print('rmse value for', i, 'is : ', sqrt(mean_squared_error(pred[i], valid[i])))"
      ],
      "execution_count": 111,
      "outputs": [
        {
          "output_type": "stream",
          "name": "stdout",
          "text": [
            "rmse value for Global CMP22 (vent/cor) [W/m^2] is :  230.33750252619703\n",
            "rmse value for Direct sNIP [W/m^2] is :  401.3945859311042\n",
            "rmse value for Azimuth Angle [degrees] is :  41.02956430039654\n",
            "rmse value for Tower Dry Bulb Temp [deg C] is :  11.486145456070249\n",
            "rmse value for Tower Wet Bulb Temp [deg C] is :  7.564639309338047\n",
            "rmse value for Tower Dew Point Temp [deg C] is :  8.472010491201672\n",
            "rmse value for Tower RH [%] is :  23.50179694895397\n",
            "rmse value for Total Cloud Cover [%] is :  36.313451043948035\n",
            "rmse value for Peak Wind Speed @ 6ft [m/s] is :  2.2556310945291\n",
            "rmse value for Avg Wind Direction @ 6ft [deg from N] is :  104.35865324685417\n",
            "rmse value for Station Pressure [mBar] is :  5.423118755655057\n",
            "rmse value for Albedo (CMP11) is :  0.20107052594521513\n"
          ]
        }
      ]
    },
    {
      "cell_type": "code",
      "metadata": {
        "colab": {
          "base_uri": "https://localhost:8080/"
        },
        "id": "UzLhLThyurRT",
        "outputId": "44fc10d9-fa5e-40e9-b7ad-6a86ae84f1e1"
      },
      "source": [
        "# Make final predictions\n",
        "model = VAR(endog=data)\n",
        "model_fit = model.fit()\n",
        "yhat = model_fit.forecast(model_fit.y, steps=1)\n",
        "print(yhat)"
      ],
      "execution_count": 132,
      "outputs": [
        {
          "output_type": "stream",
          "name": "stderr",
          "text": [
            "/usr/local/lib/python3.7/dist-packages/statsmodels/tsa/base/tsa_model.py:219: ValueWarning: A date index has been provided, but it has no associated frequency information and so will be ignored when e.g. forecasting.\n",
            "  ' ignored when e.g. forecasting.', ValueWarning)\n"
          ]
        },
        {
          "output_type": "stream",
          "name": "stdout",
          "text": [
            "[[ 3.67412495e+01  3.98112663e+01  2.33668184e+02  2.05142774e+00\n",
            "  -1.76987783e+00 -7.61582133e+00  4.50799226e+01  7.25566387e+00\n",
            "   2.24578302e+00  4.34651570e+01  8.12721445e+02  2.50162845e-01]]\n"
          ]
        },
        {
          "output_type": "stream",
          "name": "stderr",
          "text": [
            "/usr/local/lib/python3.7/dist-packages/statsmodels/base/wrapper.py:35: FutureWarning: y is a deprecated alias for endog, will be removed in version 0.11.0\n",
            "  obj = getattr(results, attr)\n"
          ]
        }
      ]
    },
    {
      "cell_type": "code",
      "metadata": {
        "id": "6DwyPvXgwoqF"
      },
      "source": [
        "def get_pred(test_df):\n",
        "  model = VAR(endog=train+test_df)\n",
        "  model_fit = model.fit()\n",
        "\n",
        "  prediction = model_fit.forecast(model_fit.y, steps=len(valid))\n",
        "  return prediction"
      ],
      "execution_count": 134,
      "outputs": []
    },
    {
      "cell_type": "code",
      "metadata": {
        "id": "tV4BiCL5lHCJ"
      },
      "source": [
        "path = '/content/ShellAI/test/'"
      ],
      "execution_count": 117,
      "outputs": []
    },
    {
      "cell_type": "code",
      "metadata": {
        "colab": {
          "base_uri": "https://localhost:8080/"
        },
        "id": "_P_KyB1Ll3QP",
        "outputId": "344d2233-8d4b-4210-dfb5-15c7367fdeff"
      },
      "source": [
        "for i in range(1, 2):\n",
        "  new_path = path + str(i) + '/weather_data.csv'\n",
        "  test_df = pd.read_csv(new_path)\n",
        "  \n",
        "  test_df.index = test_df['Time [Mins]']\n",
        "  test_df = test_df.drop(['Time [Mins]', 'Moisture', 'Precipitation (Accumulated) [mm]'], axis=1)\n",
        "  test_df = test_df.drop(test_df[test_df['Total Cloud Cover [%]'] < 0].index)\n",
        "\n",
        "  dataset = pd.concat([train, test_df], axis=0)\n",
        "\n",
        "  model = VAR(endog=test_df)\n",
        "  model_fit = model.fit()\n",
        "\n",
        "  prediction = model_fit.forecast(model_fit.y, steps=120)\n",
        "  \n",
        "  pred = pd.DataFrame(index=range(0, len(prediction)),columns = data.columns)\n",
        "  for j in range(0, 12):\n",
        "      for i in range(0, len(prediction)):\n",
        "        pred.iloc[i][j] = prediction[i][j]\n",
        "\n",
        "  print(pred['Total Cloud Cover [%]'])\n",
        "  # pred = get_pred(test_df)"
      ],
      "execution_count": 152,
      "outputs": [
        {
          "output_type": "stream",
          "name": "stdout",
          "text": [
            "0      98.9301\n",
            "1      98.9053\n",
            "2       98.903\n",
            "3      98.9028\n",
            "4      98.8979\n",
            "        ...   \n",
            "115    76.3979\n",
            "116    76.0081\n",
            "117    75.6143\n",
            "118    75.2163\n",
            "119    74.8141\n",
            "Name: Total Cloud Cover [%], Length: 120, dtype: object\n"
          ]
        },
        {
          "output_type": "stream",
          "name": "stderr",
          "text": [
            "/usr/local/lib/python3.7/dist-packages/statsmodels/tsa/base/tsa_model.py:215: ValueWarning: An unsupported index was provided and will be ignored when e.g. forecasting.\n",
            "  ' ignored when e.g. forecasting.', ValueWarning)\n",
            "/usr/local/lib/python3.7/dist-packages/statsmodels/base/wrapper.py:35: FutureWarning: y is a deprecated alias for endog, will be removed in version 0.11.0\n",
            "  obj = getattr(results, attr)\n"
          ]
        }
      ]
    }
  ]
}